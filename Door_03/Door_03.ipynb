{
 "cells": [
  {
   "cell_type": "code",
   "execution_count": 62,
   "metadata": {},
   "outputs": [],
   "source": [
    "import csv\n",
    "import numpy as np\n",
    "import re\n",
    "file = open(\"./Input_3.txt\", \"r\")\n",
    "data = file.read().replace(\"\\n\",\"\")\n",
    "file.close()"
   ]
  },
  {
   "cell_type": "code",
   "execution_count": null,
   "metadata": {},
   "outputs": [
    {
     "name": "stdout",
     "output_type": "stream",
     "text": [
      "155955228\n"
     ]
    }
   ],
   "source": [
    "pattern = re.compile(r\"mul\\((\\d{1,3}),(\\d{1,3})\\)\")\n",
    "Mul_input = re.findall(pattern, data)\n",
    "Mul_result = np.prod(np.array(Mul_input, dtype=int), axis=1)\n",
    "Sum_result = np.sum(Mul_result)\n",
    "print(Sum_result)"
   ]
  }
 ],
 "metadata": {
  "kernelspec": {
   "display_name": ".venv",
   "language": "python",
   "name": "python3"
  },
  "language_info": {
   "codemirror_mode": {
    "name": "ipython",
    "version": 3
   },
   "file_extension": ".py",
   "mimetype": "text/x-python",
   "name": "python",
   "nbconvert_exporter": "python",
   "pygments_lexer": "ipython3",
   "version": "3.9.2"
  }
 },
 "nbformat": 4,
 "nbformat_minor": 2
}
