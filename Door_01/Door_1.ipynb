{
 "cells": [
  {
   "cell_type": "code",
   "execution_count": 60,
   "metadata": {},
   "outputs": [
    {
     "name": "stdout",
     "output_type": "stream",
     "text": [
      "2066446\n"
     ]
    }
   ],
   "source": [
    "import csv\n",
    "import numpy as np\n",
    "file = open(\"Input.csv\", \"r\")\n",
    "data = list(csv.reader(file, delimiter = \"\\n\"))\n",
    "file.close()\n",
    "\n",
    "left_data = []\n",
    "right_data = []\n",
    "for row in data:\n",
    "    left_data.append(int(row[0].split()[0]))\n",
    "    right_data.append(int(row[0].split()[1]))\n",
    "\n",
    "left_data = np.sort(left_data)\n",
    "right_data = np.sort(right_data)\n",
    "\n",
    "result = np.sum(np.abs(np.subtract(left_data, right_data)))\n",
    "print(result)\n"
   ]
  }
 ],
 "metadata": {
  "kernelspec": {
   "display_name": ".venv",
   "language": "python",
   "name": "python3"
  },
  "language_info": {
   "codemirror_mode": {
    "name": "ipython",
    "version": 3
   },
   "file_extension": ".py",
   "mimetype": "text/x-python",
   "name": "python",
   "nbconvert_exporter": "python",
   "pygments_lexer": "ipython3",
   "version": "3.9.2"
  }
 },
 "nbformat": 4,
 "nbformat_minor": 2
}
