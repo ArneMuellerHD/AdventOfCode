{
 "cells": [
  {
   "cell_type": "code",
   "execution_count": null,
   "metadata": {},
   "outputs": [
    {
     "name": "stdout",
     "output_type": "stream",
     "text": [
      "('safe results: ', 486, 'unsafe results: ', 514, 'total results: ', 1000)\n"
     ]
    }
   ],
   "source": [
    "#Part 1:\n",
    "#Read Input data\n",
    "import csv\n",
    "import numpy as np\n",
    "file = open(\"./Input_2.csv\", \"r\")\n",
    "data = list(csv.reader(file, delimiter = \"\\n\"))\n",
    "file.close()\n",
    " \n",
    "#Convert strings to integers\n",
    "for i in range(len(data)):\n",
    "    #data[i] = data[i][0].split()\n",
    "    data[i] = list(map(int, data[i][0].split()))\n",
    " \n",
    " \n",
    "#Test directionality\n",
    "safe_results = 0\n",
    "unsafe_results = 0\n",
    "test = 0\n",
    " \n",
    "for report in data: #read in every report\n",
    "    decreasing = np.all(np.ediff1d(report) > 0) #np.ediff: differences between consecutive elements in array\n",
    "    increasing = np.all(np.ediff1d(report) < 0)\n",
    "    if increasing or decreasing:\n",
    "        safe_results += 1\n",
    "    else:\n",
    "        unsafe_results += 1\n",
    "        continue\n",
    "    downwards = False\n",
    "    if report[0]-report[1]<0:\n",
    "        downwards = True\n",
    "    for ind, level in enumerate(report[1:]): #iterate through all levels per report (except for first level)\n",
    "        if np.abs(level-report[ind])<=0 or np.abs(level-report[ind])>3:\n",
    "            unsafe_results+=1\n",
    "            safe_results-=1\n",
    "            break\n",
    " \n",
    "print((\"safe results: \",safe_results,\"unsafe results: \",  unsafe_results, \"total results: \",len(data)))"
   ]
  },
  {
   "cell_type": "code",
   "execution_count": null,
   "metadata": {},
   "outputs": [
    {
     "name": "stdout",
     "output_type": "stream",
     "text": [
      "('safe results: ', 540, 'total results: ', 1000)\n"
     ]
    }
   ],
   "source": [
    "#Part 2: Dampening\n",
    "#Read Input data\n",
    "import csv\n",
    "import numpy as np\n",
    "file = open(\"./Input_2.csv\", \"r\")\n",
    "data = list(csv.reader(file, delimiter = \"\\n\"))\n",
    "file.close()\n",
    " \n",
    "#Convert strings to integers\n",
    "for i in range(len(data)):\n",
    "    #data[i] = data[i][0].split()\n",
    "    data[i] = list(map(int, data[i][0].split()))\n",
    "\n",
    "def is_safe(report):\n",
    "    diff = np.ediff1d(report)\n",
    "    if np.all(diff > 0) or np.all(diff < 0):\n",
    "        if np.all((np.abs(diff) >= 1) & (np.abs(diff) <= 3)):\n",
    "            return True\n",
    "    return False\n",
    "\n",
    "safe_results = 0\n",
    "\n",
    "for report in data:\n",
    "    if is_safe(report):\n",
    "        safe_results +=1\n",
    "        continue\n",
    "    for i in range(len(report)):\n",
    "        modified_report = report[:i] + report[i+1:]\n",
    "        if is_safe(modified_report):\n",
    "            safe_results+=1\n",
    "            break\n",
    "\n",
    "print((\"safe results: \",safe_results,\"total results: \",len(data)))"
   ]
  }
 ],
 "metadata": {
  "kernelspec": {
   "display_name": ".venv",
   "language": "python",
   "name": "python3"
  },
  "language_info": {
   "codemirror_mode": {
    "name": "ipython",
    "version": 3
   },
   "file_extension": ".py",
   "mimetype": "text/x-python",
   "name": "python",
   "nbconvert_exporter": "python",
   "pygments_lexer": "ipython3",
   "version": "3.9.2"
  }
 },
 "nbformat": 4,
 "nbformat_minor": 2
}
